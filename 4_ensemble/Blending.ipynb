{
 "cells": [
  {
   "cell_type": "code",
   "execution_count": 1,
   "metadata": {},
   "outputs": [],
   "source": [
    "import pandas as pd\n",
    "import numpy as np\n"
   ]
  },
  {
   "cell_type": "code",
   "execution_count": 3,
   "metadata": {},
   "outputs": [],
   "source": [
    "test_lgbm = np.load('../3_metadata/test_lightgbm.np.npy')\n",
    "test_RF = np.load('../3_metadata/test_RF.np.npy') #0.77 acc \n",
    "test_RF2 = np.load('../3_metadata/test_RF2.np.npy') #0.73 acc\n",
    "test_arr = np.zeros(test_lgbm.shape)\n",
    "\n",
    "\n",
    "test_arr += 0.4*np.squeeze(test_lgbm)\n",
    "test_arr += 0.3*np.squeeze(test_RF)\n",
    "test_arr += 0.3*np.squeeze(test_RF2)\n"
   ]
  },
  {
   "cell_type": "code",
   "execution_count": 4,
   "metadata": {},
   "outputs": [
    {
     "data": {
      "text/plain": [
       "array([0.06533648, 0.45010248, 0.06843799, ..., 0.15656389, 0.05739324,\n",
       "       0.02668067])"
      ]
     },
     "execution_count": 4,
     "metadata": {},
     "output_type": "execute_result"
    }
   ],
   "source": [
    "test_arr"
   ]
  },
  {
   "cell_type": "code",
   "execution_count": 5,
   "metadata": {},
   "outputs": [],
   "source": [
    "test = pd.read_csv('../1_Data/Restate_sampleSubmission.csv')\n",
    "test['Restate_Int'] = test_arr"
   ]
  },
  {
   "cell_type": "code",
   "execution_count": 6,
   "metadata": {},
   "outputs": [],
   "source": [
    "test.to_csv('../5_ensembleoutput/blending.csv',index= False)"
   ]
  },
  {
   "cell_type": "code",
   "execution_count": null,
   "metadata": {},
   "outputs": [],
   "source": []
  }
 ],
 "metadata": {
  "kernelspec": {
   "display_name": "Python 3",
   "language": "python",
   "name": "python3"
  },
  "language_info": {
   "codemirror_mode": {
    "name": "ipython",
    "version": 3
   },
   "file_extension": ".py",
   "mimetype": "text/x-python",
   "name": "python",
   "nbconvert_exporter": "python",
   "pygments_lexer": "ipython3",
   "version": "3.7.1"
  }
 },
 "nbformat": 4,
 "nbformat_minor": 2
}
