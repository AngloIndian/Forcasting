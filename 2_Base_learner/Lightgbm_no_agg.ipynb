{
 "cells": [
  {
   "cell_type": "code",
   "execution_count": 1,
   "metadata": {},
   "outputs": [],
   "source": [
    "import pandas as pd\n",
    "import numpy as np\n",
    "import lightgbm as lgb"
   ]
  },
  {
   "cell_type": "code",
   "execution_count": 16,
   "metadata": {},
   "outputs": [],
   "source": [
    "train = pd.read_csv('../1_Data/Metadata/train.csv')\n",
    "test = pd.read_csv('../1_Data/Metadata/test.csv')\n",
    "restate_list = train[train['Restate_Int']==1]['gvkey'].values\n"
   ]
  },
  {
   "cell_type": "markdown",
   "metadata": {
    "_uuid": "190d06aae90126c4706c3213728562e97ae9d632"
   },
   "source": [
    "# LightGBM model"
   ]
  },
  {
   "cell_type": "code",
   "execution_count": 3,
   "metadata": {
    "_uuid": "07d94e1ebea970c4b7646c8fbe1fc2f350f8d154"
   },
   "outputs": [
    {
     "data": {
      "text/plain": [
       "Index(['gvkey', 'year', 'Filing', 'Date', 'Restate_Int', 'acominc', 'ap',\n",
       "       'aqc', 'at', 'bkvlps', 'capx', 'ceq', 'ceqt', 'ch', 'che', 'cogs',\n",
       "       'cstk', 'dltt', 'dp', 'dv', 'dvc', 'dvt', 'ebit', 'ebitda', 'epsfi',\n",
       "       'epspi', 'gdwl', 'gp', 'intan', 'invt', 'ivst', 'lt', 'ni', 'ppent',\n",
       "       'pstk', 're', 'rect', 'revt', 'seq', 'tstk', 'dvpsp_f', 'dvpsx_f', 'au',\n",
       "       'auop', 'auopic', 'Weekday', 'Date_lag', 'Date_diff', 'Week_num'],\n",
       "      dtype='object')"
      ]
     },
     "execution_count": 3,
     "metadata": {},
     "output_type": "execute_result"
    }
   ],
   "source": [
    "train.columns"
   ]
  },
  {
   "cell_type": "code",
   "execution_count": 4,
   "metadata": {
    "_uuid": "976e17a543758070e6e33942d4e3c0f5e652e633"
   },
   "outputs": [
    {
     "data": {
      "text/plain": [
       "Index(['acominc', 'ap', 'aqc', 'at', 'bkvlps', 'capx', 'ceq', 'ceqt', 'ch',\n",
       "       'che', 'cogs', 'cstk', 'dltt', 'dp', 'dv', 'dvc', 'dvt', 'ebit',\n",
       "       'ebitda', 'epsfi', 'epspi', 'gdwl', 'gp', 'intan', 'invt', 'ivst', 'lt',\n",
       "       'ni', 'ppent', 'pstk', 're', 'rect', 'revt', 'seq', 'tstk', 'dvpsp_f',\n",
       "       'dvpsx_f', 'au', 'auop', 'auopic', 'Date_diff'],\n",
       "      dtype='object')"
      ]
     },
     "execution_count": 4,
     "metadata": {},
     "output_type": "execute_result"
    }
   ],
   "source": [
    "train.select_dtypes(include=['float64']).columns"
   ]
  },
  {
   "cell_type": "code",
   "execution_count": 5,
   "metadata": {
    "_uuid": "17ef90b2773584f8e28d3b4db39e8d0cfd7ee194"
   },
   "outputs": [
    {
     "data": {
      "text/html": [
       "<div>\n",
       "<style scoped>\n",
       "    .dataframe tbody tr th:only-of-type {\n",
       "        vertical-align: middle;\n",
       "    }\n",
       "\n",
       "    .dataframe tbody tr th {\n",
       "        vertical-align: top;\n",
       "    }\n",
       "\n",
       "    .dataframe thead th {\n",
       "        text-align: right;\n",
       "    }\n",
       "</style>\n",
       "<table border=\"1\" class=\"dataframe\">\n",
       "  <thead>\n",
       "    <tr style=\"text-align: right;\">\n",
       "      <th></th>\n",
       "      <th>gvkey</th>\n",
       "      <th>year</th>\n",
       "      <th>Filing</th>\n",
       "      <th>Date</th>\n",
       "      <th>Restate_Int</th>\n",
       "      <th>acominc</th>\n",
       "      <th>ap</th>\n",
       "      <th>aqc</th>\n",
       "      <th>at</th>\n",
       "      <th>bkvlps</th>\n",
       "      <th>...</th>\n",
       "      <th>tstk</th>\n",
       "      <th>dvpsp_f</th>\n",
       "      <th>dvpsx_f</th>\n",
       "      <th>au</th>\n",
       "      <th>auop</th>\n",
       "      <th>auopic</th>\n",
       "      <th>Weekday</th>\n",
       "      <th>Date_lag</th>\n",
       "      <th>Date_diff</th>\n",
       "      <th>Week_num</th>\n",
       "    </tr>\n",
       "  </thead>\n",
       "  <tbody>\n",
       "    <tr>\n",
       "      <th>0</th>\n",
       "      <td>1004</td>\n",
       "      <td>2005</td>\n",
       "      <td>0001104659-05-033688</td>\n",
       "      <td>2005-07-22</td>\n",
       "      <td>0</td>\n",
       "      <td>-13.842</td>\n",
       "      <td>97.002</td>\n",
       "      <td>0.000</td>\n",
       "      <td>978.819</td>\n",
       "      <td>11.5326</td>\n",
       "      <td>...</td>\n",
       "      <td>69.664</td>\n",
       "      <td>0.0</td>\n",
       "      <td>0.0</td>\n",
       "      <td>6.0</td>\n",
       "      <td>1.0</td>\n",
       "      <td>1.0</td>\n",
       "      <td>4</td>\n",
       "      <td>NaN</td>\n",
       "      <td>NaN</td>\n",
       "      <td>29</td>\n",
       "    </tr>\n",
       "    <tr>\n",
       "      <th>1</th>\n",
       "      <td>1004</td>\n",
       "      <td>2006</td>\n",
       "      <td>0001104659-06-047248</td>\n",
       "      <td>2006-07-17</td>\n",
       "      <td>0</td>\n",
       "      <td>-13.899</td>\n",
       "      <td>110.239</td>\n",
       "      <td>38.478</td>\n",
       "      <td>1067.633</td>\n",
       "      <td>13.0998</td>\n",
       "      <td>...</td>\n",
       "      <td>79.813</td>\n",
       "      <td>0.0</td>\n",
       "      <td>0.0</td>\n",
       "      <td>6.0</td>\n",
       "      <td>1.0</td>\n",
       "      <td>1.0</td>\n",
       "      <td>0</td>\n",
       "      <td>2005-07-22</td>\n",
       "      <td>-5.0</td>\n",
       "      <td>29</td>\n",
       "    </tr>\n",
       "    <tr>\n",
       "      <th>2</th>\n",
       "      <td>1004</td>\n",
       "      <td>2007</td>\n",
       "      <td>0001104659-07-055173</td>\n",
       "      <td>2007-07-20</td>\n",
       "      <td>0</td>\n",
       "      <td>-13.012</td>\n",
       "      <td>99.073</td>\n",
       "      <td>85.210</td>\n",
       "      <td>1362.010</td>\n",
       "      <td>15.0944</td>\n",
       "      <td>...</td>\n",
       "      <td>100.935</td>\n",
       "      <td>0.0</td>\n",
       "      <td>0.0</td>\n",
       "      <td>6.0</td>\n",
       "      <td>1.0</td>\n",
       "      <td>1.0</td>\n",
       "      <td>4</td>\n",
       "      <td>2006-07-17</td>\n",
       "      <td>3.0</td>\n",
       "      <td>29</td>\n",
       "    </tr>\n",
       "    <tr>\n",
       "      <th>3</th>\n",
       "      <td>1004</td>\n",
       "      <td>2008</td>\n",
       "      <td>0001047469-08-008126</td>\n",
       "      <td>2008-07-11</td>\n",
       "      <td>0</td>\n",
       "      <td>-23.996</td>\n",
       "      <td>100.651</td>\n",
       "      <td>0.000</td>\n",
       "      <td>1377.511</td>\n",
       "      <td>16.8937</td>\n",
       "      <td>...</td>\n",
       "      <td>103.159</td>\n",
       "      <td>0.0</td>\n",
       "      <td>0.0</td>\n",
       "      <td>6.0</td>\n",
       "      <td>1.0</td>\n",
       "      <td>1.0</td>\n",
       "      <td>4</td>\n",
       "      <td>2007-07-20</td>\n",
       "      <td>-8.0</td>\n",
       "      <td>28</td>\n",
       "    </tr>\n",
       "    <tr>\n",
       "      <th>4</th>\n",
       "      <td>1004</td>\n",
       "      <td>2009</td>\n",
       "      <td>0001047469-09-006783</td>\n",
       "      <td>2009-07-16</td>\n",
       "      <td>0</td>\n",
       "      <td>-29.646</td>\n",
       "      <td>114.906</td>\n",
       "      <td>193.989</td>\n",
       "      <td>1501.042</td>\n",
       "      <td>18.9167</td>\n",
       "      <td>...</td>\n",
       "      <td>104.447</td>\n",
       "      <td>0.0</td>\n",
       "      <td>0.0</td>\n",
       "      <td>6.0</td>\n",
       "      <td>4.0</td>\n",
       "      <td>1.0</td>\n",
       "      <td>3</td>\n",
       "      <td>2008-07-11</td>\n",
       "      <td>5.0</td>\n",
       "      <td>29</td>\n",
       "    </tr>\n",
       "  </tbody>\n",
       "</table>\n",
       "<p>5 rows × 49 columns</p>\n",
       "</div>"
      ],
      "text/plain": [
       "   gvkey  year                Filing        Date  Restate_Int  acominc  \\\n",
       "0   1004  2005  0001104659-05-033688  2005-07-22            0  -13.842   \n",
       "1   1004  2006  0001104659-06-047248  2006-07-17            0  -13.899   \n",
       "2   1004  2007  0001104659-07-055173  2007-07-20            0  -13.012   \n",
       "3   1004  2008  0001047469-08-008126  2008-07-11            0  -23.996   \n",
       "4   1004  2009  0001047469-09-006783  2009-07-16            0  -29.646   \n",
       "\n",
       "        ap      aqc        at   bkvlps  ...     tstk  dvpsp_f  dvpsx_f   au  \\\n",
       "0   97.002    0.000   978.819  11.5326  ...   69.664      0.0      0.0  6.0   \n",
       "1  110.239   38.478  1067.633  13.0998  ...   79.813      0.0      0.0  6.0   \n",
       "2   99.073   85.210  1362.010  15.0944  ...  100.935      0.0      0.0  6.0   \n",
       "3  100.651    0.000  1377.511  16.8937  ...  103.159      0.0      0.0  6.0   \n",
       "4  114.906  193.989  1501.042  18.9167  ...  104.447      0.0      0.0  6.0   \n",
       "\n",
       "   auop  auopic  Weekday    Date_lag  Date_diff  Week_num  \n",
       "0   1.0     1.0        4         NaN        NaN        29  \n",
       "1   1.0     1.0        0  2005-07-22       -5.0        29  \n",
       "2   1.0     1.0        4  2006-07-17        3.0        29  \n",
       "3   1.0     1.0        4  2007-07-20       -8.0        28  \n",
       "4   4.0     1.0        3  2008-07-11        5.0        29  \n",
       "\n",
       "[5 rows x 49 columns]"
      ]
     },
     "execution_count": 5,
     "metadata": {},
     "output_type": "execute_result"
    }
   ],
   "source": [
    "train.head()"
   ]
  },
  {
   "cell_type": "code",
   "execution_count": 6,
   "metadata": {},
   "outputs": [
    {
     "name": "stdout",
     "output_type": "stream",
     "text": [
      "Deleted column gvkey from train\n",
      "Deleted column gvkey from train\n",
      "Deleted column year from train\n",
      "Deleted column year from train\n",
      "Deleted column Filing from train\n",
      "Deleted column Filing from train\n",
      "Deleted column Date from train\n",
      "Deleted column Date from train\n",
      "Deleted column Date_lag from train\n",
      "Deleted column Date_lag from train\n"
     ]
    }
   ],
   "source": [
    "#Delete those with non-numeric + gvkey + year \n",
    "col_del = ['gvkey','year','Filing','Date','Date_lag']\n",
    "for col in col_del:\n",
    "    del train[col]\n",
    "    print('Deleted column {} from train'.format(col))\n",
    "    del test[col]\n",
    "    print('Deleted column {} from train'.format(col))"
   ]
  },
  {
   "cell_type": "code",
   "execution_count": 7,
   "metadata": {
    "_uuid": "bcfa29cfe66630cf0752ba46f69f8a472c676e60"
   },
   "outputs": [],
   "source": [
    "y= train['Restate_Int']\n",
    "del train['Restate_Int']"
   ]
  },
  {
   "cell_type": "code",
   "execution_count": 8,
   "metadata": {
    "_uuid": "2633ff554cc59e887b4a554090657cb7d9899696",
    "scrolled": false
   },
   "outputs": [
    {
     "name": "stdout",
     "output_type": "stream",
     "text": [
      "['acominc', 'ap', 'aqc', 'at', 'bkvlps', 'capx', 'ceq', 'ceqt', 'ch', 'che', 'cogs', 'cstk', 'dltt', 'dp', 'dv', 'dvc', 'dvt', 'ebit', 'ebitda', 'epsfi', 'epspi', 'gdwl', 'gp', 'intan', 'invt', 'ivst', 'lt', 'ni', 'ppent', 'pstk', 're', 'rect', 'revt', 'seq', 'tstk', 'dvpsp_f', 'dvpsx_f', 'au', 'auop', 'auopic', 'Weekday', 'Date_diff', 'Week_num']\n",
      "Starting training...\n",
      "fold 0 \n",
      "Training until validation scores don't improve for 5000 rounds.\n",
      "[1000]\tvalid_0's auc: 0.675193\n",
      "[2000]\tvalid_0's auc: 0.662963\n",
      "[3000]\tvalid_0's auc: 0.651679\n",
      "[4000]\tvalid_0's auc: 0.651734\n",
      "[5000]\tvalid_0's auc: 0.637829\n",
      "Early stopping, best iteration is:\n",
      "[79]\tvalid_0's auc: 0.696733\n",
      "fold 1 \n",
      "Training until validation scores don't improve for 5000 rounds.\n",
      "[1000]\tvalid_0's auc: 0.665083\n",
      "[2000]\tvalid_0's auc: 0.675676\n",
      "[3000]\tvalid_0's auc: 0.681136\n",
      "[4000]\tvalid_0's auc: 0.678642\n",
      "[5000]\tvalid_0's auc: 0.674402\n",
      "[6000]\tvalid_0's auc: 0.672363\n",
      "[7000]\tvalid_0's auc: 0.673291\n",
      "Early stopping, best iteration is:\n",
      "[2700]\tvalid_0's auc: 0.683411\n",
      "fold 2 \n",
      "Training until validation scores don't improve for 5000 rounds.\n",
      "[1000]\tvalid_0's auc: 0.667149\n",
      "[2000]\tvalid_0's auc: 0.660297\n",
      "[3000]\tvalid_0's auc: 0.66077\n",
      "[4000]\tvalid_0's auc: 0.662608\n",
      "[5000]\tvalid_0's auc: 0.654327\n",
      "[6000]\tvalid_0's auc: 0.64641\n",
      "Early stopping, best iteration is:\n",
      "[1099]\tvalid_0's auc: 0.66774\n",
      "fold 3 \n",
      "Training until validation scores don't improve for 5000 rounds.\n",
      "[1000]\tvalid_0's auc: 0.65751\n",
      "[2000]\tvalid_0's auc: 0.66937\n",
      "[3000]\tvalid_0's auc: 0.67427\n",
      "[4000]\tvalid_0's auc: 0.675281\n",
      "[5000]\tvalid_0's auc: 0.679882\n",
      "[6000]\tvalid_0's auc: 0.6828\n",
      "[7000]\tvalid_0's auc: 0.686448\n",
      "[8000]\tvalid_0's auc: 0.68541\n",
      "[9000]\tvalid_0's auc: 0.687112\n",
      "[10000]\tvalid_0's auc: 0.688047\n",
      "[11000]\tvalid_0's auc: 0.687935\n",
      "[12000]\tvalid_0's auc: 0.68988\n",
      "[13000]\tvalid_0's auc: 0.691844\n",
      "[14000]\tvalid_0's auc: 0.693734\n",
      "[15000]\tvalid_0's auc: 0.692181\n",
      "[16000]\tvalid_0's auc: 0.691377\n",
      "[17000]\tvalid_0's auc: 0.690759\n",
      "[18000]\tvalid_0's auc: 0.687598\n",
      "[19000]\tvalid_0's auc: 0.686382\n",
      "Early stopping, best iteration is:\n",
      "[14007]\tvalid_0's auc: 0.693865\n",
      "fold 4 \n",
      "Training until validation scores don't improve for 5000 rounds.\n",
      "[1000]\tvalid_0's auc: 0.574111\n",
      "[2000]\tvalid_0's auc: 0.583212\n",
      "[3000]\tvalid_0's auc: 0.594473\n",
      "[4000]\tvalid_0's auc: 0.596652\n",
      "[5000]\tvalid_0's auc: 0.605022\n",
      "[6000]\tvalid_0's auc: 0.603021\n",
      "[7000]\tvalid_0's auc: 0.603582\n",
      "[8000]\tvalid_0's auc: 0.604125\n",
      "[9000]\tvalid_0's auc: 0.603676\n",
      "[10000]\tvalid_0's auc: 0.598457\n",
      "Early stopping, best iteration is:\n",
      "[5560]\tvalid_0's auc: 0.60534\n",
      "fold 5 \n",
      "Training until validation scores don't improve for 5000 rounds.\n",
      "[1000]\tvalid_0's auc: 0.634493\n",
      "[2000]\tvalid_0's auc: 0.629312\n",
      "[3000]\tvalid_0's auc: 0.620595\n",
      "[4000]\tvalid_0's auc: 0.597811\n",
      "[5000]\tvalid_0's auc: 0.585653\n",
      "Early stopping, best iteration is:\n",
      "[50]\tvalid_0's auc: 0.66474\n",
      "fold 6 \n",
      "Training until validation scores don't improve for 5000 rounds.\n",
      "[1000]\tvalid_0's auc: 0.74508\n",
      "[2000]\tvalid_0's auc: 0.742714\n",
      "[3000]\tvalid_0's auc: 0.740039\n",
      "[4000]\tvalid_0's auc: 0.74119\n",
      "[5000]\tvalid_0's auc: 0.741517\n",
      "Early stopping, best iteration is:\n",
      "[260]\tvalid_0's auc: 0.769725\n",
      "fold 7 \n",
      "Training until validation scores don't improve for 5000 rounds.\n",
      "[1000]\tvalid_0's auc: 0.577011\n",
      "[2000]\tvalid_0's auc: 0.583156\n",
      "[3000]\tvalid_0's auc: 0.589609\n",
      "[4000]\tvalid_0's auc: 0.600383\n",
      "[5000]\tvalid_0's auc: 0.605359\n",
      "Early stopping, best iteration is:\n",
      "[11]\tvalid_0's auc: 0.608305\n",
      "fold 8 \n",
      "Training until validation scores don't improve for 5000 rounds.\n",
      "[1000]\tvalid_0's auc: 0.68396\n",
      "[2000]\tvalid_0's auc: 0.670006\n",
      "[3000]\tvalid_0's auc: 0.663814\n",
      "[4000]\tvalid_0's auc: 0.663777\n",
      "[5000]\tvalid_0's auc: 0.666994\n",
      "Early stopping, best iteration is:\n",
      "[384]\tvalid_0's auc: 0.70506\n",
      "fold 9 \n",
      "Training until validation scores don't improve for 5000 rounds.\n",
      "[1000]\tvalid_0's auc: 0.681958\n",
      "[2000]\tvalid_0's auc: 0.685587\n",
      "[3000]\tvalid_0's auc: 0.685971\n",
      "[4000]\tvalid_0's auc: 0.690273\n",
      "[5000]\tvalid_0's auc: 0.69147\n",
      "[6000]\tvalid_0's auc: 0.694575\n",
      "[7000]\tvalid_0's auc: 0.693416\n",
      "[8000]\tvalid_0's auc: 0.693808\n",
      "[9000]\tvalid_0's auc: 0.69798\n",
      "[10000]\tvalid_0's auc: 0.701908\n",
      "[11000]\tvalid_0's auc: 0.699289\n",
      "[12000]\tvalid_0's auc: 0.697344\n",
      "[13000]\tvalid_0's auc: 0.699065\n",
      "[14000]\tvalid_0's auc: 0.695249\n",
      "Early stopping, best iteration is:\n",
      "[9723]\tvalid_0's auc: 0.703685\n"
     ]
    }
   ],
   "source": [
    "#get number of feature and number of training rows\n",
    "X_train = train\n",
    "X_test = test\n",
    "\n",
    "num_train, num_feature = X_train.shape\n",
    "\n",
    "#Get parameters \n",
    "params = {\n",
    "    'boosting_type': 'gbdt',\n",
    "    'objective': 'binary',\n",
    "    'metric': 'auc',\n",
    "    'num_leaves': 20,\n",
    "    'learning_rate': 0.001,\n",
    "    'feature_fraction': 0.9,\n",
    "    'bagging_fraction': 0.8,\n",
    "    'bagging_freq': 20,\n",
    "    'verbose': 1000,\n",
    "}\n",
    "\n",
    "\n",
    "#------------------------------------------------------------\n",
    "from sklearn.model_selection import StratifiedKFold\n",
    "folds = StratifiedKFold(n_splits=10, shuffle=True, random_state=123)\n",
    "\n",
    "\n",
    "oof_preds = np.zeros(X_train.shape[0])\n",
    "sub_preds = np.zeros(X_test.shape[0])\n",
    "feature_importance_df = pd.DataFrame()\n",
    "feature_name = [col for col in X_train.columns]\n",
    "print(feature_name)\n",
    "print('Starting training...')\n",
    "for n_fold, (trn_idx, val_idx) in enumerate(folds.split(X_train,y)):\n",
    "    print('fold {} '.format(n_fold))\n",
    "    trn_x, trn_y = X_train[feature_name].iloc[trn_idx], y.iloc[trn_idx]\n",
    "    val_x, val_y = X_train[feature_name].iloc[val_idx], y.iloc[val_idx]\n",
    "    lgb_train = lgb.Dataset(trn_x, trn_y)\n",
    "    lgb_eval = lgb.Dataset(val_x, val_y)\n",
    "\n",
    "    gbm = lgb.train(params,\n",
    "                lgb_train,\n",
    "                num_boost_round=50000,\n",
    "                valid_sets=lgb_eval,\n",
    "                early_stopping_rounds=5000,\n",
    "                   verbose_eval=1000)\n",
    "    \n",
    "    oof_preds[val_idx] = gbm.predict(val_x, num_iteration=gbm.best_iteration) #get oof prediction\n",
    "#     sub_preds += gbm.predict_proba(X_test[feature_name],num_iteration=gbm.best_iteration)[:, 1]/folds.n_splits \n",
    "    #predict on test set, take average\n",
    "    sub_preds += gbm.predict(X_test[feature_name], num_iteration=gbm.best_iteration) / folds.n_splits \n",
    "    \n",
    "    #save the feature important \n",
    "    fold_importance_df = pd.DataFrame()\n",
    "    fold_importance_df[\"feature\"] = feature_name\n",
    "    fold_importance_df[\"importance\"] = np.log1p(gbm.feature_importance(\n",
    "        importance_type='gain',\n",
    "        iteration=gbm.best_iteration))\n",
    "    fold_importance_df[\"fold\"] = n_fold + 1\n",
    "    feature_importance_df = pd.concat([feature_importance_df, fold_importance_df], axis=0)"
   ]
  },
  {
   "cell_type": "code",
   "execution_count": 54,
   "metadata": {},
   "outputs": [],
   "source": [
    "np.save('../3_metadata/oof_lightgbm_no_agg.np',oof_preds )\n",
    "np.save('../3_metadata/test_lightgbm_no_agg.np',sub_preds )"
   ]
  },
  {
   "cell_type": "code",
   "execution_count": 55,
   "metadata": {
    "_uuid": "c5824a2e72a3ca252afdcf9c02c9dc4b93831768"
   },
   "outputs": [
    {
     "name": "stdout",
     "output_type": "stream",
     "text": [
      "CV score: 0.63603 \n"
     ]
    }
   ],
   "source": [
    "from sklearn.metrics import roc_auc_score\n",
    "rocauc= roc_auc_score(y, oof_preds)\n",
    "print(\"CV score: {:<8.5f}\".format(rocauc))"
   ]
  },
  {
   "cell_type": "code",
   "execution_count": 56,
   "metadata": {
    "_uuid": "f8ea262df050d93cf66a77862f43e9a2790cecf9"
   },
   "outputs": [],
   "source": [
    "submission = pd.read_csv('../1_Data/Restate_sampleSubmission.csv')\n",
    "submission['Restate_Int'] = sub_preds"
   ]
  },
  {
   "cell_type": "code",
   "execution_count": 57,
   "metadata": {
    "_uuid": "00c303750b54482de610529802576ead41efbfe8"
   },
   "outputs": [],
   "source": [
    "submission.to_csv('../3_metadata/test_lightgbm_no_agg.csv',index = False)"
   ]
  },
  {
   "cell_type": "markdown",
   "metadata": {
    "_uuid": "2dcf52a207d4e7f465f6b67c5802f15c0a65aed9"
   },
   "source": [
    "# Post processing "
   ]
  },
  {
   "cell_type": "code",
   "execution_count": 58,
   "metadata": {},
   "outputs": [],
   "source": [
    "def post_processing(x):\n",
    "    if x in restate_list:\n",
    "        return 1\n",
    "    else:\n",
    "        return 0\n",
    "submission['boosting'] = submission['gvkey'].apply(post_processing)"
   ]
  },
  {
   "cell_type": "code",
   "execution_count": 59,
   "metadata": {},
   "outputs": [],
   "source": [
    "submission['Restate_Int'] = submission['Restate_Int'] + submission['boosting']\n"
   ]
  },
  {
   "cell_type": "code",
   "execution_count": 60,
   "metadata": {},
   "outputs": [],
   "source": [
    "submission['Restate_Int'].clip(upper =1 ,inplace = True)"
   ]
  },
  {
   "cell_type": "code",
   "execution_count": 61,
   "metadata": {},
   "outputs": [
    {
     "data": {
      "text/plain": [
       "1.0"
      ]
     },
     "execution_count": 61,
     "metadata": {},
     "output_type": "execute_result"
    }
   ],
   "source": [
    "submission['Restate_Int'].max()"
   ]
  },
  {
   "cell_type": "code",
   "execution_count": 62,
   "metadata": {},
   "outputs": [],
   "source": [
    "submission[['gvkey','Restate_Int']].to_csv('../3_metadata/test_lightgbm_no_agg_postprocessing2.csv',index = False)"
   ]
  },
  {
   "cell_type": "code",
   "execution_count": null,
   "metadata": {},
   "outputs": [],
   "source": []
  }
 ],
 "metadata": {
  "kernelspec": {
   "display_name": "Python 3",
   "language": "python",
   "name": "python3"
  },
  "language_info": {
   "codemirror_mode": {
    "name": "ipython",
    "version": 3
   },
   "file_extension": ".py",
   "mimetype": "text/x-python",
   "name": "python",
   "nbconvert_exporter": "python",
   "pygments_lexer": "ipython3",
   "version": "3.7.2"
  }
 },
 "nbformat": 4,
 "nbformat_minor": 1
}
