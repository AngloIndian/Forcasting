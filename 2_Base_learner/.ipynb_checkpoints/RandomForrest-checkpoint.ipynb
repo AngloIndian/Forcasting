{
 "cells": [
  {
   "cell_type": "code",
   "execution_count": 1,
   "metadata": {},
   "outputs": [],
   "source": [
    "import pandas as pd\n",
    "import numpy as np\n",
    "from sklearn.svm import SVC"
   ]
  },
  {
   "cell_type": "code",
   "execution_count": 2,
   "metadata": {},
   "outputs": [],
   "source": [
    "train = pd.read_csv('../1_Data/Metadata/train.csv')\n",
    "test = pd.read_csv('../1_Data/Metadata/test.csv')\n",
    "# y = train['Restate_Int']\n",
    "# del train['Restate_Int']"
   ]
  },
  {
   "cell_type": "code",
   "execution_count": 3,
   "metadata": {},
   "outputs": [
    {
     "data": {
      "text/plain": [
       "Index(['acominc', 'ap', 'aqc', 'at', 'bkvlps', 'capx', 'ceq', 'ceqt', 'ch',\n",
       "       'che', 'cogs', 'cstk', 'dltt', 'dp', 'dv', 'dvc', 'dvt', 'ebit',\n",
       "       'ebitda', 'epsfi', 'epspi', 'gdwl', 'gp', 'intan', 'invt', 'ivst', 'lt',\n",
       "       'ni', 'ppent', 'pstk', 're', 'rect', 'revt', 'seq', 'tstk', 'dvpsp_f',\n",
       "       'dvpsx_f', 'au', 'auop', 'auopic', 'Date_diff'],\n",
       "      dtype='object')"
      ]
     },
     "execution_count": 3,
     "metadata": {},
     "output_type": "execute_result"
    }
   ],
   "source": [
    "train.select_dtypes(include=['float64']).columns"
   ]
  },
  {
   "cell_type": "code",
   "execution_count": 4,
   "metadata": {},
   "outputs": [
    {
     "name": "stdout",
     "output_type": "stream",
     "text": [
      "acominc\n",
      "ap\n",
      "aqc\n",
      "at\n",
      "bkvlps\n",
      "capx\n",
      "ceq\n",
      "ceqt\n",
      "ch\n",
      "che\n",
      "cogs\n",
      "cstk\n",
      "dltt\n",
      "dp\n",
      "dv\n",
      "dvc\n",
      "dvt\n",
      "ebit\n",
      "ebitda\n",
      "epsfi\n",
      "epspi\n",
      "gdwl\n",
      "gp\n",
      "intan\n",
      "invt\n",
      "ivst\n",
      "lt\n",
      "ni\n",
      "ppent\n",
      "pstk\n",
      "re\n",
      "rect\n",
      "revt\n",
      "seq\n",
      "tstk\n",
      "dvpsp_f\n",
      "dvpsx_f\n",
      "au\n",
      "auop\n",
      "auopic\n",
      "done\n"
     ]
    }
   ],
   "source": [
    "\n",
    "def create_new_col(aggs):\n",
    "    return [k + \"_\"+ v for k in aggs for v in aggs[k]]\n",
    "aggs1 = {'Weekday':['mean','max','min'],\n",
    "#        'Date_diff':['max','min','std','mean'],\n",
    "       'Week_num':['mean','max','min'],\n",
    "       'Restate_Int':['max']}\n",
    "aggs2 = {'Weekday':['mean','max','min'],\n",
    "#        'Date_diff':['max','min','std','mean'],\n",
    "       'Week_num':['mean','max','min']}\n",
    "initial_feature = ['Weekday','Date_diff','Week_num','Restate_Int','gvkey','year','Date_lag','Date_diff','Filing']\n",
    "total_feature = train.select_dtypes(include=['float64']).columns\n",
    "\n",
    "\n",
    "for feature in total_feature:\n",
    "    if feature not in initial_feature:\n",
    "        print(feature)\n",
    "        aggs1[feature] = ['mean',]\n",
    "        aggs2[feature] = ['mean',]\n",
    "print('done')\n",
    "\n",
    "\n",
    "\n",
    "train_agg = train.groupby('gvkey').agg(aggs1)\n",
    "train_agg.columns = create_new_col(aggs1)\n",
    "train_agg.reset_index(inplace = True)\n",
    "y = train_agg['Restate_Int_max']\n",
    "del train_agg['Restate_Int_max']\n",
    "train_agg.head()\n",
    "\n",
    "\n",
    "test_agg = test.groupby('gvkey').agg(aggs2)\n",
    "test_agg.columns = create_new_col(aggs2)\n",
    "test_agg.reset_index(inplace = True)\n",
    "# print(dtypes(y))"
   ]
  },
  {
   "cell_type": "code",
   "execution_count": 5,
   "metadata": {},
   "outputs": [],
   "source": [
    "train_agg.replace([np.inf, -np.inf], np.nan,inplace = True)\n",
    "test_agg.replace([np.inf, -np.inf], np.nan,inplace = True)\n",
    "\n",
    "train_agg.fillna(0,inplace = True)\n",
    "test_agg.fillna(0,inplace = True)"
   ]
  },
  {
   "cell_type": "code",
   "execution_count": 6,
   "metadata": {},
   "outputs": [],
   "source": [
    "from imblearn.over_sampling import SMOTE\n",
    "sm = SMOTE(random_state=2)\n",
    "columns = train_agg.columns\n",
    "\n",
    "train_agg, y = sm.fit_sample(train_agg, y)\n",
    "\n",
    "train_agg = pd.DataFrame(data=train_agg, columns = columns)\n",
    "y = pd.DataFrame(data=y)"
   ]
  },
  {
   "cell_type": "code",
   "execution_count": 7,
   "metadata": {},
   "outputs": [
    {
     "data": {
      "text/html": [
       "<div>\n",
       "<style scoped>\n",
       "    .dataframe tbody tr th:only-of-type {\n",
       "        vertical-align: middle;\n",
       "    }\n",
       "\n",
       "    .dataframe tbody tr th {\n",
       "        vertical-align: top;\n",
       "    }\n",
       "\n",
       "    .dataframe thead th {\n",
       "        text-align: right;\n",
       "    }\n",
       "</style>\n",
       "<table border=\"1\" class=\"dataframe\">\n",
       "  <thead>\n",
       "    <tr style=\"text-align: right;\">\n",
       "      <th></th>\n",
       "      <th>gvkey</th>\n",
       "      <th>year</th>\n",
       "      <th>Filing</th>\n",
       "      <th>Date</th>\n",
       "      <th>Restate_Int</th>\n",
       "      <th>acominc</th>\n",
       "      <th>ap</th>\n",
       "      <th>aqc</th>\n",
       "      <th>at</th>\n",
       "      <th>bkvlps</th>\n",
       "      <th>...</th>\n",
       "      <th>tstk</th>\n",
       "      <th>dvpsp_f</th>\n",
       "      <th>dvpsx_f</th>\n",
       "      <th>au</th>\n",
       "      <th>auop</th>\n",
       "      <th>auopic</th>\n",
       "      <th>Weekday</th>\n",
       "      <th>Date_lag</th>\n",
       "      <th>Date_diff</th>\n",
       "      <th>Week_num</th>\n",
       "    </tr>\n",
       "  </thead>\n",
       "  <tbody>\n",
       "    <tr>\n",
       "      <th>0</th>\n",
       "      <td>1004</td>\n",
       "      <td>2005</td>\n",
       "      <td>0001104659-05-033688</td>\n",
       "      <td>2005-07-22</td>\n",
       "      <td>0</td>\n",
       "      <td>-13.842</td>\n",
       "      <td>97.002</td>\n",
       "      <td>0.000</td>\n",
       "      <td>978.819</td>\n",
       "      <td>11.5326</td>\n",
       "      <td>...</td>\n",
       "      <td>69.664</td>\n",
       "      <td>0.0</td>\n",
       "      <td>0.0</td>\n",
       "      <td>6.0</td>\n",
       "      <td>1.0</td>\n",
       "      <td>1.0</td>\n",
       "      <td>4</td>\n",
       "      <td>NaN</td>\n",
       "      <td>NaN</td>\n",
       "      <td>29</td>\n",
       "    </tr>\n",
       "    <tr>\n",
       "      <th>1</th>\n",
       "      <td>1004</td>\n",
       "      <td>2006</td>\n",
       "      <td>0001104659-06-047248</td>\n",
       "      <td>2006-07-17</td>\n",
       "      <td>0</td>\n",
       "      <td>-13.899</td>\n",
       "      <td>110.239</td>\n",
       "      <td>38.478</td>\n",
       "      <td>1067.633</td>\n",
       "      <td>13.0998</td>\n",
       "      <td>...</td>\n",
       "      <td>79.813</td>\n",
       "      <td>0.0</td>\n",
       "      <td>0.0</td>\n",
       "      <td>6.0</td>\n",
       "      <td>1.0</td>\n",
       "      <td>1.0</td>\n",
       "      <td>0</td>\n",
       "      <td>2005-07-22</td>\n",
       "      <td>-5.0</td>\n",
       "      <td>29</td>\n",
       "    </tr>\n",
       "    <tr>\n",
       "      <th>2</th>\n",
       "      <td>1004</td>\n",
       "      <td>2007</td>\n",
       "      <td>0001104659-07-055173</td>\n",
       "      <td>2007-07-20</td>\n",
       "      <td>0</td>\n",
       "      <td>-13.012</td>\n",
       "      <td>99.073</td>\n",
       "      <td>85.210</td>\n",
       "      <td>1362.010</td>\n",
       "      <td>15.0944</td>\n",
       "      <td>...</td>\n",
       "      <td>100.935</td>\n",
       "      <td>0.0</td>\n",
       "      <td>0.0</td>\n",
       "      <td>6.0</td>\n",
       "      <td>1.0</td>\n",
       "      <td>1.0</td>\n",
       "      <td>4</td>\n",
       "      <td>2006-07-17</td>\n",
       "      <td>3.0</td>\n",
       "      <td>29</td>\n",
       "    </tr>\n",
       "    <tr>\n",
       "      <th>3</th>\n",
       "      <td>1004</td>\n",
       "      <td>2008</td>\n",
       "      <td>0001047469-08-008126</td>\n",
       "      <td>2008-07-11</td>\n",
       "      <td>0</td>\n",
       "      <td>-23.996</td>\n",
       "      <td>100.651</td>\n",
       "      <td>0.000</td>\n",
       "      <td>1377.511</td>\n",
       "      <td>16.8937</td>\n",
       "      <td>...</td>\n",
       "      <td>103.159</td>\n",
       "      <td>0.0</td>\n",
       "      <td>0.0</td>\n",
       "      <td>6.0</td>\n",
       "      <td>1.0</td>\n",
       "      <td>1.0</td>\n",
       "      <td>4</td>\n",
       "      <td>2007-07-20</td>\n",
       "      <td>-8.0</td>\n",
       "      <td>28</td>\n",
       "    </tr>\n",
       "    <tr>\n",
       "      <th>4</th>\n",
       "      <td>1004</td>\n",
       "      <td>2009</td>\n",
       "      <td>0001047469-09-006783</td>\n",
       "      <td>2009-07-16</td>\n",
       "      <td>0</td>\n",
       "      <td>-29.646</td>\n",
       "      <td>114.906</td>\n",
       "      <td>193.989</td>\n",
       "      <td>1501.042</td>\n",
       "      <td>18.9167</td>\n",
       "      <td>...</td>\n",
       "      <td>104.447</td>\n",
       "      <td>0.0</td>\n",
       "      <td>0.0</td>\n",
       "      <td>6.0</td>\n",
       "      <td>4.0</td>\n",
       "      <td>1.0</td>\n",
       "      <td>3</td>\n",
       "      <td>2008-07-11</td>\n",
       "      <td>5.0</td>\n",
       "      <td>29</td>\n",
       "    </tr>\n",
       "  </tbody>\n",
       "</table>\n",
       "<p>5 rows × 49 columns</p>\n",
       "</div>"
      ],
      "text/plain": [
       "   gvkey  year                Filing        Date  Restate_Int  acominc  \\\n",
       "0   1004  2005  0001104659-05-033688  2005-07-22            0  -13.842   \n",
       "1   1004  2006  0001104659-06-047248  2006-07-17            0  -13.899   \n",
       "2   1004  2007  0001104659-07-055173  2007-07-20            0  -13.012   \n",
       "3   1004  2008  0001047469-08-008126  2008-07-11            0  -23.996   \n",
       "4   1004  2009  0001047469-09-006783  2009-07-16            0  -29.646   \n",
       "\n",
       "        ap      aqc        at   bkvlps    ...        tstk  dvpsp_f  dvpsx_f  \\\n",
       "0   97.002    0.000   978.819  11.5326    ...      69.664      0.0      0.0   \n",
       "1  110.239   38.478  1067.633  13.0998    ...      79.813      0.0      0.0   \n",
       "2   99.073   85.210  1362.010  15.0944    ...     100.935      0.0      0.0   \n",
       "3  100.651    0.000  1377.511  16.8937    ...     103.159      0.0      0.0   \n",
       "4  114.906  193.989  1501.042  18.9167    ...     104.447      0.0      0.0   \n",
       "\n",
       "    au  auop  auopic  Weekday    Date_lag  Date_diff  Week_num  \n",
       "0  6.0   1.0     1.0        4         NaN        NaN        29  \n",
       "1  6.0   1.0     1.0        0  2005-07-22       -5.0        29  \n",
       "2  6.0   1.0     1.0        4  2006-07-17        3.0        29  \n",
       "3  6.0   1.0     1.0        4  2007-07-20       -8.0        28  \n",
       "4  6.0   4.0     1.0        3  2008-07-11        5.0        29  \n",
       "\n",
       "[5 rows x 49 columns]"
      ]
     },
     "execution_count": 7,
     "metadata": {},
     "output_type": "execute_result"
    }
   ],
   "source": [
    "train.head()"
   ]
  },
  {
   "cell_type": "code",
   "execution_count": 16,
   "metadata": {},
   "outputs": [],
   "source": [
    "#Save the SMOTE data set\n",
    "train_agg.to_csv('../1_Data/Metadata/train_agg.csv',index = False)\n",
    "y_df = pd.DataFrame(y ,columns=['label'])\n",
    "y_df.to_csv('../1_Data/Metadata/y_agg.csv',index= False)\n",
    "test_agg.to_csv('../1_Data/Metadata/test_agg.csv',index= False)"
   ]
  },
  {
   "cell_type": "code",
   "execution_count": 9,
   "metadata": {},
   "outputs": [
    {
     "name": "stdout",
     "output_type": "stream",
     "text": [
      "7848\n",
      "['gvkey', 'Weekday_mean', 'Weekday_max', 'Weekday_min', 'Week_num_mean', 'Week_num_max', 'Week_num_min', 'acominc_mean', 'ap_mean', 'aqc_mean', 'at_mean', 'bkvlps_mean', 'capx_mean', 'ceq_mean', 'ceqt_mean', 'ch_mean', 'che_mean', 'cogs_mean', 'cstk_mean', 'dltt_mean', 'dp_mean', 'dv_mean', 'dvc_mean', 'dvt_mean', 'ebit_mean', 'ebitda_mean', 'epsfi_mean', 'epspi_mean', 'gdwl_mean', 'gp_mean', 'intan_mean', 'invt_mean', 'ivst_mean', 'lt_mean', 'ni_mean', 'ppent_mean', 'pstk_mean', 're_mean', 'rect_mean', 'revt_mean', 'seq_mean', 'tstk_mean', 'dvpsp_f_mean', 'dvpsx_f_mean', 'au_mean', 'auop_mean', 'auopic_mean']\n",
      "Starting training...\n",
      "fold 0 \n"
     ]
    },
    {
     "name": "stderr",
     "output_type": "stream",
     "text": [
      "/Users/ts-thanhtung.dao/anaconda3/lib/python3.7/site-packages/ipykernel_launcher.py:37: DataConversionWarning: A column-vector y was passed when a 1d array was expected. Please change the shape of y to (n_samples,), for example using ravel().\n"
     ]
    },
    {
     "name": "stdout",
     "output_type": "stream",
     "text": [
      "[[0.64989485 0.35010515]\n",
      " [0.61368182 0.38631818]\n",
      " [0.80221586 0.19778414]\n",
      " ...\n",
      " [0.14327109 0.85672891]\n",
      " [0.15344182 0.84655818]\n",
      " [0.54703441 0.45296559]]\n",
      "fold 1 \n"
     ]
    },
    {
     "name": "stderr",
     "output_type": "stream",
     "text": [
      "/Users/ts-thanhtung.dao/anaconda3/lib/python3.7/site-packages/ipykernel_launcher.py:37: DataConversionWarning: A column-vector y was passed when a 1d array was expected. Please change the shape of y to (n_samples,), for example using ravel().\n"
     ]
    },
    {
     "name": "stdout",
     "output_type": "stream",
     "text": [
      "[[0.77995705 0.22004295]\n",
      " [0.87855955 0.12144045]\n",
      " [0.91019206 0.08980794]\n",
      " ...\n",
      " [0.16395619 0.83604381]\n",
      " [0.49926132 0.50073868]\n",
      " [0.13908475 0.86091525]]\n",
      "fold 2 \n"
     ]
    },
    {
     "name": "stderr",
     "output_type": "stream",
     "text": [
      "/Users/ts-thanhtung.dao/anaconda3/lib/python3.7/site-packages/ipykernel_launcher.py:37: DataConversionWarning: A column-vector y was passed when a 1d array was expected. Please change the shape of y to (n_samples,), for example using ravel().\n"
     ]
    },
    {
     "name": "stdout",
     "output_type": "stream",
     "text": [
      "[[0.62801948 0.37198052]\n",
      " [0.87283053 0.12716947]\n",
      " [0.85834368 0.14165632]\n",
      " ...\n",
      " [0.24787692 0.75212308]\n",
      " [0.14735797 0.85264203]\n",
      " [0.12852246 0.87147754]]\n",
      "fold 3 \n"
     ]
    },
    {
     "name": "stderr",
     "output_type": "stream",
     "text": [
      "/Users/ts-thanhtung.dao/anaconda3/lib/python3.7/site-packages/ipykernel_launcher.py:37: DataConversionWarning: A column-vector y was passed when a 1d array was expected. Please change the shape of y to (n_samples,), for example using ravel().\n"
     ]
    },
    {
     "name": "stdout",
     "output_type": "stream",
     "text": [
      "[[0.61206088 0.38793912]\n",
      " [0.60531352 0.39468648]\n",
      " [0.45797889 0.54202111]\n",
      " ...\n",
      " [0.09058143 0.90941857]\n",
      " [0.13819165 0.86180835]\n",
      " [0.26263073 0.73736927]]\n",
      "fold 4 \n"
     ]
    },
    {
     "name": "stderr",
     "output_type": "stream",
     "text": [
      "/Users/ts-thanhtung.dao/anaconda3/lib/python3.7/site-packages/ipykernel_launcher.py:37: DataConversionWarning: A column-vector y was passed when a 1d array was expected. Please change the shape of y to (n_samples,), for example using ravel().\n"
     ]
    },
    {
     "name": "stdout",
     "output_type": "stream",
     "text": [
      "[[0.88674917 0.11325083]\n",
      " [0.79815961 0.20184039]\n",
      " [0.61256917 0.38743083]\n",
      " ...\n",
      " [0.16726616 0.83273384]\n",
      " [0.11090509 0.88909491]\n",
      " [0.10872435 0.89127565]]\n",
      "fold 5 \n"
     ]
    },
    {
     "name": "stderr",
     "output_type": "stream",
     "text": [
      "/Users/ts-thanhtung.dao/anaconda3/lib/python3.7/site-packages/ipykernel_launcher.py:37: DataConversionWarning: A column-vector y was passed when a 1d array was expected. Please change the shape of y to (n_samples,), for example using ravel().\n"
     ]
    },
    {
     "name": "stdout",
     "output_type": "stream",
     "text": [
      "[[0.85803314 0.14196686]\n",
      " [0.87861803 0.12138197]\n",
      " [0.86979851 0.13020149]\n",
      " ...\n",
      " [0.13631727 0.86368273]\n",
      " [0.11652457 0.88347543]\n",
      " [0.64451731 0.35548269]]\n",
      "fold 6 \n"
     ]
    },
    {
     "name": "stderr",
     "output_type": "stream",
     "text": [
      "/Users/ts-thanhtung.dao/anaconda3/lib/python3.7/site-packages/ipykernel_launcher.py:37: DataConversionWarning: A column-vector y was passed when a 1d array was expected. Please change the shape of y to (n_samples,), for example using ravel().\n"
     ]
    },
    {
     "name": "stdout",
     "output_type": "stream",
     "text": [
      "[[0.69419234 0.30580766]\n",
      " [0.81311736 0.18688264]\n",
      " [0.54641861 0.45358139]\n",
      " ...\n",
      " [0.21429336 0.78570664]\n",
      " [0.16530104 0.83469896]\n",
      " [0.12082515 0.87917485]]\n",
      "fold 7 \n"
     ]
    },
    {
     "name": "stderr",
     "output_type": "stream",
     "text": [
      "/Users/ts-thanhtung.dao/anaconda3/lib/python3.7/site-packages/ipykernel_launcher.py:37: DataConversionWarning: A column-vector y was passed when a 1d array was expected. Please change the shape of y to (n_samples,), for example using ravel().\n"
     ]
    },
    {
     "name": "stdout",
     "output_type": "stream",
     "text": [
      "[[0.41257524 0.58742476]\n",
      " [0.62867663 0.37132337]\n",
      " [0.76508036 0.23491964]\n",
      " ...\n",
      " [0.06626646 0.93373354]\n",
      " [0.12807853 0.87192147]\n",
      " [0.12522642 0.87477358]]\n",
      "fold 8 \n"
     ]
    },
    {
     "name": "stderr",
     "output_type": "stream",
     "text": [
      "/Users/ts-thanhtung.dao/anaconda3/lib/python3.7/site-packages/ipykernel_launcher.py:37: DataConversionWarning: A column-vector y was passed when a 1d array was expected. Please change the shape of y to (n_samples,), for example using ravel().\n"
     ]
    },
    {
     "name": "stdout",
     "output_type": "stream",
     "text": [
      "[[0.66471999 0.33528001]\n",
      " [0.62066774 0.37933226]\n",
      " [0.62190438 0.37809562]\n",
      " ...\n",
      " [0.15676507 0.84323493]\n",
      " [0.13724059 0.86275941]\n",
      " [0.14501464 0.85498536]]\n",
      "fold 9 \n"
     ]
    },
    {
     "name": "stderr",
     "output_type": "stream",
     "text": [
      "/Users/ts-thanhtung.dao/anaconda3/lib/python3.7/site-packages/ipykernel_launcher.py:37: DataConversionWarning: A column-vector y was passed when a 1d array was expected. Please change the shape of y to (n_samples,), for example using ravel().\n"
     ]
    },
    {
     "name": "stdout",
     "output_type": "stream",
     "text": [
      "[[0.59227287 0.40772713]\n",
      " [0.34706026 0.65293974]\n",
      " [0.91385171 0.08614829]\n",
      " ...\n",
      " [0.16239757 0.83760243]\n",
      " [0.83303544 0.16696456]\n",
      " [0.27156636 0.72843364]]\n"
     ]
    }
   ],
   "source": [
    "#get number of feature and number of training rows\n",
    "'''RF 1    clf = RandomForestClassifier(n_estimators=100, \n",
    "                                 max_depth=40,\n",
    "                                 random_state=0\n",
    "   RF 2    clf = RandomForestClassifier(n_estimators=1000, \n",
    "                                 max_depth=10,\n",
    "                                 random_state=0)\n",
    "                                \n",
    "'''\n",
    "X_train = train_agg\n",
    "X_test = test_agg\n",
    "\n",
    "num_train, num_feature = X_train.shape\n",
    "\n",
    "\n",
    "#------------------------------------------------------------\n",
    "from sklearn.model_selection import StratifiedKFold\n",
    "from sklearn.ensemble import RandomForestClassifier\n",
    "folds = StratifiedKFold(n_splits=10, shuffle=True, random_state=123)\n",
    "\n",
    "print(X_train.shape[0])\n",
    "oof_preds = np.zeros((X_train.shape[0],2))\n",
    "sub_preds = np.zeros((X_test.shape[0],2))\n",
    "feature_importance_df = pd.DataFrame()\n",
    "feature_name = [col for col in X_train.columns]\n",
    "print(feature_name)\n",
    "print('Starting training...')\n",
    "for n_fold, (trn_idx, val_idx) in enumerate(folds.split(X_train,y)):\n",
    "    print('fold {} '.format(n_fold))\n",
    "    trn_x, trn_y = X_train[feature_name].iloc[trn_idx], y.iloc[trn_idx]\n",
    "    val_x, val_y = X_train[feature_name].iloc[val_idx], y.iloc[val_idx]\n",
    "    \n",
    "    clf = RandomForestClassifier(n_estimators=1000, \n",
    "                                 max_depth=10,\n",
    "                                 random_state=0)\n",
    "    \n",
    "    clf.fit(trn_x, trn_y)\n",
    "    print(clf.predict_proba(val_x))\n",
    "    \n",
    "    oof_preds[val_idx] = clf.predict_proba(val_x) #get oof prediction\n",
    "\n",
    "    sub_preds += clf.predict_proba(X_test[feature_name]) / folds.n_splits \n",
    "    \n",
    "    #save the feature important"
   ]
  },
  {
   "cell_type": "code",
   "execution_count": 10,
   "metadata": {},
   "outputs": [
    {
     "data": {
      "text/plain": [
       "(7848, 2)"
      ]
     },
     "execution_count": 10,
     "metadata": {},
     "output_type": "execute_result"
    }
   ],
   "source": [
    "oof_preds.shape"
   ]
  },
  {
   "cell_type": "code",
   "execution_count": 11,
   "metadata": {},
   "outputs": [],
   "source": [
    "oof_preds =[i[1] for i in oof_preds]"
   ]
  },
  {
   "cell_type": "code",
   "execution_count": 12,
   "metadata": {},
   "outputs": [
    {
     "name": "stdout",
     "output_type": "stream",
     "text": [
      "CV score: 0.97570 \n"
     ]
    }
   ],
   "source": [
    "from sklearn.metrics import roc_auc_score\n",
    "rocauc= roc_auc_score(y,oof_preds)\n",
    "print(\"CV score: {:<8.5f}\".format(rocauc))"
   ]
  },
  {
   "cell_type": "code",
   "execution_count": 13,
   "metadata": {},
   "outputs": [],
   "source": [
    "sub_preds = [i[1] for i in sub_preds]"
   ]
  },
  {
   "cell_type": "code",
   "execution_count": 14,
   "metadata": {},
   "outputs": [],
   "source": [
    "submission = pd.read_csv('../1_Data/Restate_sampleSubmission.csv')\n",
    "submission['Restate_Int'] = sub_preds"
   ]
  },
  {
   "cell_type": "code",
   "execution_count": 15,
   "metadata": {},
   "outputs": [],
   "source": [
    "submission.to_csv('../3_metadata/test_RF2.csv',index = False)\n",
    "np.save('../3_metadata/oof_RF2.np',oof_preds )\n",
    "np.save('../3_metadata/test_RF2.np',sub_preds )"
   ]
  },
  {
   "cell_type": "code",
   "execution_count": null,
   "metadata": {},
   "outputs": [],
   "source": []
  }
 ],
 "metadata": {
  "kernelspec": {
   "display_name": "Python 3",
   "language": "python",
   "name": "python3"
  },
  "language_info": {
   "codemirror_mode": {
    "name": "ipython",
    "version": 3
   },
   "file_extension": ".py",
   "mimetype": "text/x-python",
   "name": "python",
   "nbconvert_exporter": "python",
   "pygments_lexer": "ipython3",
   "version": "3.7.1"
  }
 },
 "nbformat": 4,
 "nbformat_minor": 2
}
