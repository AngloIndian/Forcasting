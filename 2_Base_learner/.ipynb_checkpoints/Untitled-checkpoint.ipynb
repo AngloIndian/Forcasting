{
 "cells": [
  {
   "cell_type": "code",
   "execution_count": 1,
   "metadata": {},
   "outputs": [],
   "source": [
    "import sys"
   ]
  },
  {
   "cell_type": "code",
   "execution_count": 2,
   "metadata": {},
   "outputs": [
    {
     "name": "stdout",
     "output_type": "stream",
     "text": [
      "Solving environment: done\n",
      "\n",
      "## Package Plan ##\n",
      "\n",
      "  environment location: /Users/ts-thanhtung.dao/anaconda3\n",
      "\n",
      "  added / updated specs: \n",
      "    - lightgbm\n",
      "\n",
      "\n",
      "The following packages will be downloaded:\n",
      "\n",
      "    package                    |            build\n",
      "    ---------------------------|-----------------\n",
      "    conda-4.6.8                |           py37_0         877 KB  conda-forge\n",
      "    openmp-4.0.0               |                1         195 KB  conda-forge\n",
      "    openssl-1.1.1b             |       h01d97ff_2         3.5 MB  conda-forge\n",
      "    cryptography-2.6.1         |   py37h212c5bf_0         576 KB  conda-forge\n",
      "    pycurl-7.43.0.2            |   py37ha12b0ac_0         185 KB\n",
      "    libcurl-7.64.0             |       h051b688_2         531 KB\n",
      "    lightgbm-2.2.2             |   py37h0a44026_0         648 KB  conda-forge\n",
      "    krb5-1.16.1                |       hddcf347_7         1.1 MB\n",
      "    libssh2-1.8.2              |       hcdc9a53_2         221 KB  conda-forge\n",
      "    python-3.7.1               |       haf84260_7        21.1 MB\n",
      "    libarchive-3.3.3           |    heb9f7fe_1003         1.5 MB  conda-forge\n",
      "    curl-7.64.0                |       ha441bb4_2         147 KB\n",
      "    zstd-1.3.3                 |                1         1.1 MB  conda-forge\n",
      "    ca-certificates-2019.3.9   |       hecc5488_0         146 KB  conda-forge\n",
      "    clangdev-4.0.0             |        default_0        62.8 MB  conda-forge\n",
      "    certifi-2019.3.9           |           py37_0         149 KB  conda-forge\n",
      "    llvmdev-4.0.0              |        default_0       100.9 MB  conda-forge\n",
      "    ------------------------------------------------------------\n",
      "                                           Total:       195.5 MB\n",
      "\n",
      "The following NEW packages will be INSTALLED:\n",
      "\n",
      "    clangdev:        4.0.0-default_0         conda-forge\n",
      "    krb5:            1.16.1-hddcf347_7                  \n",
      "    lightgbm:        2.2.2-py37h0a44026_0    conda-forge\n",
      "    llvmdev:         4.0.0-default_0         conda-forge\n",
      "    openmp:          4.0.0-1                 conda-forge\n",
      "    zstd:            1.3.3-1                 conda-forge\n",
      "\n",
      "The following packages will be UPDATED:\n",
      "\n",
      "    ca-certificates: 2018.11.29-ha4d7672_0   conda-forge --> 2019.3.9-hecc5488_0     conda-forge\n",
      "    certifi:         2018.11.29-py37_1000    conda-forge --> 2019.3.9-py37_0         conda-forge\n",
      "    conda:           4.5.12-py37_1000        conda-forge --> 4.6.8-py37_0            conda-forge\n",
      "    cryptography:    2.3.1-py37hdbc3d79_0                --> 2.6.1-py37h212c5bf_0    conda-forge\n",
      "    curl:            7.61.1-ha441bb4_0                   --> 7.64.0-ha441bb4_2                  \n",
      "    libarchive:      3.3.3-hc2e69e3_0                    --> 3.3.3-heb9f7fe_1003     conda-forge\n",
      "    libcurl:         7.61.1-hf30b1f0_0                   --> 7.64.0-h051b688_2                  \n",
      "    libssh2:         1.8.0-h322a93b_4                    --> 1.8.2-hcdc9a53_2        conda-forge\n",
      "    openssl:         1.0.2p-h470a237_2       conda-forge --> 1.1.1b-h01d97ff_2       conda-forge\n",
      "    pycurl:          7.43.0.2-py37hdbc3d79_0             --> 7.43.0.2-py37ha12b0ac_0            \n",
      "    python:          3.7.0-hc167b69_0                    --> 3.7.1-haf84260_7                   \n",
      "\n",
      "\n",
      "Downloading and Extracting Packages\n",
      "conda-4.6.8          | 877 KB    | ##################################### | 100% \n",
      "openmp-4.0.0         | 195 KB    | ##################################### | 100% \n",
      "openssl-1.1.1b       | 3.5 MB    | ##################################### | 100% \n",
      "cryptography-2.6.1   | 576 KB    | ##################################### | 100% \n",
      "pycurl-7.43.0.2      | 185 KB    | ##################################### | 100% \n",
      "libcurl-7.64.0       | 531 KB    | ##################################### | 100% \n",
      "lightgbm-2.2.2       | 648 KB    | ##################################### | 100% \n",
      "krb5-1.16.1          | 1.1 MB    | ##################################### | 100% \n",
      "libssh2-1.8.2        | 221 KB    | ##################################### | 100% \n",
      "python-3.7.1         | 21.1 MB   | ##################################### | 100% \n",
      "libarchive-3.3.3     | 1.5 MB    | ##################################### | 100% \n",
      "curl-7.64.0          | 147 KB    | ##################################### | 100% \n",
      "zstd-1.3.3           | 1.1 MB    | ##################################### | 100% \n",
      "ca-certificates-2019 | 146 KB    | ##################################### | 100% \n",
      "clangdev-4.0.0       | 62.8 MB   | ##################################### | 100% \n",
      "certifi-2019.3.9     | 149 KB    | ##################################### | 100% \n",
      "llvmdev-4.0.0        | 100.9 MB  | ##################################### | 100% \n",
      "Preparing transaction: done\n",
      "Verifying transaction: done\n",
      "Executing transaction: done\n"
     ]
    }
   ],
   "source": [
    "!conda install --yes --prefix {sys.prefix} -c conda-forge lightgbm"
   ]
  },
  {
   "cell_type": "code",
   "execution_count": null,
   "metadata": {},
   "outputs": [],
   "source": []
  }
 ],
 "metadata": {
  "kernelspec": {
   "display_name": "Python 3",
   "language": "python",
   "name": "python3"
  },
  "language_info": {
   "codemirror_mode": {
    "name": "ipython",
    "version": 3
   },
   "file_extension": ".py",
   "mimetype": "text/x-python",
   "name": "python",
   "nbconvert_exporter": "python",
   "pygments_lexer": "ipython3",
   "version": "3.7.0"
  }
 },
 "nbformat": 4,
 "nbformat_minor": 2
}
